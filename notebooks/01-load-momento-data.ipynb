{
 "cells": [
  {
   "cell_type": "markdown",
   "metadata": {},
   "source": [
    "# Setup"
   ]
  },
  {
   "cell_type": "code",
   "execution_count": 1,
   "metadata": {},
   "outputs": [],
   "source": [
    "import itertools\n",
    "\n",
    "import requests\n",
    "from bs4 import BeautifulSoup\n",
    "\n",
    "from langchain.embeddings.openai import OpenAIEmbeddings\n",
    "from langchain.document_loaders import WebBaseLoader, SitemapLoader\n",
    "from langchain.docstore.document import Document\n",
    "from langchain.text_splitter import TokenTextSplitter\n",
    "\n",
    "from momento.auth import CredentialProvider\n",
    "from momento.config import VectorIndexConfigurations\n",
    "from momento.responses.vector_index import Search\n",
    "from langchain.vectorstores import MomentoVectorIndex\n",
    "\n",
    "# Fixes bug with asyncio and jupyter notebooks.\n",
    "# Required for SitemapLoader to work correctly.\n",
    "import nest_asyncio\n",
    "\n",
    "nest_asyncio.apply()\n"
   ]
  },
  {
   "cell_type": "code",
   "execution_count": 2,
   "metadata": {},
   "outputs": [],
   "source": [
    "%load_ext dotenv\n",
    "%dotenv\n"
   ]
  },
  {
   "cell_type": "markdown",
   "metadata": {},
   "source": [
    "# Get website content"
   ]
  },
  {
   "cell_type": "markdown",
   "metadata": {},
   "source": [
    "## Part 1: Find relevant URLs to scrape"
   ]
  },
  {
   "cell_type": "markdown",
   "metadata": {},
   "source": [
    "We are going to read web page content. Let's start out with a helper to strip out irrelevant details:"
   ]
  },
  {
   "cell_type": "code",
   "execution_count": 3,
   "metadata": {},
   "outputs": [],
   "source": [
    "def parse_content_fn(content: BeautifulSoup) -> str:\n",
    "    # Strip irrelevant elements from the content\n",
    "    to_remove = list(itertools.chain( \n",
    "        content.find_all(\"title\"),\n",
    "        content.find_all(\"nav\"),\n",
    "        content.find_all(\"div\", role=\"region\"),\n",
    "        content.find_all(\"div\", class_=\"page-wrapper\"),\n",
    "        content.find_all(\"div\", class_=\"blog-post_newsletter\"),\n",
    "        content.find_all(\"div\", class_=\"blog-post-social-wrapper\"),\n",
    "        content.find_all(\"section\", class_=\"section-more-blog-posts\"),\n",
    "        content.find_all(\"button\"),\n",
    "        content.find_all(\"aside\"),\n",
    "        content.find_all(id=\"faqs\"),\n",
    "        content.find_all(\"header\"),\n",
    "        content.find_all(\"footer\")))\n",
    "\n",
    "    for element in to_remove:\n",
    "        element.decompose()\n",
    "\n",
    "    return str(content.get_text()).strip()\n"
   ]
  },
  {
   "cell_type": "markdown",
   "metadata": {},
   "source": [
    "We have a lot of rich information from the technical documentation page. Since that has a sitemap, we can scrape the pages using Langchain's SitemapLoader:"
   ]
  },
  {
   "cell_type": "code",
   "execution_count": 4,
   "metadata": {},
   "outputs": [],
   "source": [
    "tech_docs_loader = SitemapLoader(\n",
    "    web_path=\"https://docs.momentohq.com/sitemap.xml\",\n",
    "    parsing_function=parse_content_fn\n",
    ")\n"
   ]
  },
  {
   "cell_type": "markdown",
   "metadata": {},
   "source": [
    "We also have a trove of documents first from blogs. We'll scrape the links directly from the index page, then use Langchain's WebBaseLoader to scrape the content:"
   ]
  },
  {
   "cell_type": "code",
   "execution_count": 5,
   "metadata": {},
   "outputs": [],
   "source": [
    "def read_blog_urls(base_url: str = \"https://www.gomomento.com\") -> list[str]:\n",
    "    response = requests.get(f\"{base_url}/blog\")\n",
    "    soup = BeautifulSoup(response.text, \"html.parser\")\n",
    "\n",
    "    # find all a elements\n",
    "    a_elements = soup.find_all(\"a\", href=True, recursive=True)\n",
    "    hrefs = [\n",
    "        a.get(\"href\") for a in a_elements\n",
    "        if a.get(\"href\").startswith(\"/blog\") and a.get(\"href\") != \"/blog\"\n",
    "    ]\n",
    "    urls = [f\"{base_url}{href}\" for href in hrefs]\n",
    "\n",
    "    # dedup and retain the order, see https://peps.python.org/pep-0468/\n",
    "    return list(dict.fromkeys(urls))\n"
   ]
  },
  {
   "cell_type": "code",
   "execution_count": 6,
   "metadata": {},
   "outputs": [
    {
     "data": {
      "text/plain": [
       "(100,\n",
       " ['https://www.gomomento.com/blog/episode-4-million-dollar-lines-of-code-engineering-your-cloud-cost-optimization-with-erik-peterson',\n",
       "  'https://www.gomomento.com/blog/chatting-on-the-edge-integrating-momento-with-netlify-and-vercel',\n",
       "  'https://www.gomomento.com/blog/unity-chat-demo-quickly-build-a-multiplayer-chat-with-serverless-pub-sub',\n",
       "  'https://www.gomomento.com/blog/introducing-momento-leaderboards-the-serverless-leaderboard-service',\n",
       "  'https://www.gomomento.com/blog/momento-cache-is-the-cloud-native-answer-to-elasticache-redis'])"
      ]
     },
     "execution_count": 6,
     "metadata": {},
     "output_type": "execute_result"
    }
   ],
   "source": [
    "blog_urls = read_blog_urls()\n",
    "len(blog_urls), blog_urls[:5]\n"
   ]
  },
  {
   "cell_type": "code",
   "execution_count": 7,
   "metadata": {},
   "outputs": [],
   "source": [
    "blog_loader = WebBaseLoader(blog_urls)\n",
    "blog_loader.parser = parse_content_fn\n"
   ]
  },
  {
   "cell_type": "markdown",
   "metadata": {},
   "source": [
    "## Part 2: Scrape relevant URLs"
   ]
  },
  {
   "cell_type": "markdown",
   "metadata": {},
   "source": [
    "Note: the next calls take 1 to 2 minutes to run."
   ]
  },
  {
   "cell_type": "code",
   "execution_count": 8,
   "metadata": {},
   "outputs": [
    {
     "name": "stderr",
     "output_type": "stream",
     "text": [
      "Fetching pages: 100%|##########| 110/110 [00:10<00:00, 10.05it/s]\n"
     ]
    }
   ],
   "source": [
    "tech_docs = tech_docs_loader.load()\n"
   ]
  },
  {
   "cell_type": "code",
   "execution_count": 9,
   "metadata": {},
   "outputs": [
    {
     "data": {
      "text/plain": [
       "Document(page_content='Momento CacheAccelerate your app, reduce costs, and free your developers.Momento TopicsEnable real-time communication between different parts of a distributed system.Momento Vector IndexA serverless vector index for your AI-enabled applications.#1213Momento LeaderboardsA serverless leaderboard service', metadata={'source': 'https://docs.momentohq.com/', 'loc': 'https://docs.momentohq.com/', 'changefreq': 'weekly', 'priority': '0.5'})"
      ]
     },
     "execution_count": 9,
     "metadata": {},
     "output_type": "execute_result"
    }
   ],
   "source": [
    "tech_docs[0]\n"
   ]
  },
  {
   "cell_type": "code",
   "execution_count": 10,
   "metadata": {},
   "outputs": [],
   "source": [
    "blogs = blog_loader.load()\n"
   ]
  },
  {
   "cell_type": "code",
   "execution_count": 11,
   "metadata": {},
   "outputs": [
    {
     "data": {
      "text/plain": [
       "'Episode #4 - Million dollar lines of code: Engineering your cloud cost optimization with Erik Peterson — Momento\\n\\n\\n\\n\\n\\n\\n\\n\\n\\n\\n\\n\\n\\n\\n\\n\\n\\n\\n\\n\\n\\n\\n\\n\\n\\n\\n\\n\\n\\n\\n\\n\\n\\nNameEmail AddressThank you! Your submission has been received!Oops! Something went wrong while submitting the form.Get started with Momento Vector Index today!Get started with Momento Vector Index today!\\n\\n\\nSolutions\\n\\nBy Use CaseBy CategoryBy Team TypeServicesMomento CacheMomento TopicsMomento Vector IndexServicesMomento CacheMomento TopicsMomento Vector IndexBuildUse CasesChatFront-End DevelopmentServerless AppsIndustriesAI/MLGamingIntegrationsDynamoDBMongoDBRedisBuildUse CasesChatFront-end DevelopmentServerless AppsIndustriesAI/MLGamingIntegrationsDynamoDBMongoDBRedisPricingResourcesCase StudiesFAQComplianceResourcesCase StudiesFAQMoCon RecapComplianceBlogDocsCompanyAbout UsJoin our NewsletterCompanyAbout UsJoin our NewsletterDocsLog InContact UsSolutions\\n\\nBy Use CaseBy CategoryBy Team TypeConsoleContact UsEN\\n\\nJPENJPCloseAugust 31, 2023 - 1 Min ReadEpisode #4 - Million dollar lines of code: Engineering your cloud cost optimization with Erik PetersonLearn how to save significantly in your cloud infrastructure.Khawaja Shamsby Khawaja Shams, , by Khawaja Shamsby Khawaja Shams, , PodcastShare\\n\\n\\n\\n\\n\\n\\n\\nSummary\\xa0In episode 4 of the Cache-it podcast, Khawaja invites Erik Peterson, Founder, Director, and CTO/CISO at CloudZero, to discuss the concept of “million dollar lines of code”. The term refers to a single line of code that, when optimized, can lead to significant cost savings in cloud infrastructure. Erik emphasizes the importance of cost optimization in cloud engineering and the need for engineers to consider cost alongside performance and functionality.\\xa0\\u200dThe conversation touches on how engineers often treat cloud resources as abundant due to the ease of provisioning, leading to wasteful spending. Erik suggests that engineers need to flip their mindset from maximizing resource consumption to optimize resource usage.\\xa0\\u200dErik runs through “million dollar lines of code” examples, such as accidentally enabling debug logging that generates excessive data, and altering data access patterns to reduce the size of API calls and lowers costs. He also highlights the importance of aligning cost optimization with a focus on delivering an excellent user experience.\\xa0\\u200dOverall, the conversation dives into the intersection of engineering decisions, cloud costs, and user experience, defining how small code changes can have a profound impact on cost savings while maintaining or even improving system performance.\\xa0\\u200dTo hear more from Erik on this subject, he will be speaking at QCon this year in San Francisco on Wednesday, October 4th.\\xa0\\u200dAbout Erik PetersonErik Peterson is the Founder and CTO of CloudZero and a pioneer in engineering-led cloud cost optimization. He has been building in the cloud since its arrival and has over two decades of software startup experience, with a passion for cost-efficient engineering and excellent margins. Erik is also a believer in Serverless computing, an AWS Ambassador, and a recovering application security survivor. He is an active contributor to the FinOps and Serverless communities and frequently shares his thoughts on cloud economics, DevOps, and security.Khawaja Shamsby Khawaja Shams, , by Khawaja Shamsby by Khawaja Shams, , Author\\n\\n\\n\\n\\n\\nKhawaja ShamsKhawaja is the CEO and Co-Founder of Momento. He is passionate about investing in people, setting a bold vision, and team execution. Khawaja has experience at AWS where he owned DynamoDB, and subsequently owned product and engineering for all 7 of the AWS Media Services. He was awarded the prestigious NASA Early Career Medal for his contributions to the Mars Rovers.Author\\n\\n\\n\\n\\n\\nAuthor\\n\\n\\n\\n\\n\\nPodcastDon’t Miss Our Latest NewsSubscribe to our newsletter and get all the news from Momento.No spam.I agree to receive other communications from Momento. For more information, review our Privacy Policy and Cookie Policy.Thank you!Your submission has been received.Please insert valid email addressFollow Us\\n\\n\\n\\n\\n\\n\\n\\nMore Blog PostsOctober 19, 2023 - 1 Min ReadUnity chat demo: Quickly build a multiplayer chat with serverless pub/subTake advantage of Momento Topics in Unity Game Engine to build multiplayer chat.\\nGamingOctober 18, 2023 - 1 Min ReadIntroducing Momento Leaderboards: the serverless leaderboard serviceIt’s never been easier to build competitive leaderboards.GamingOctober 17, 2023 - 9 Min ReadMomento Cache is the cloud-native answer to ElastiCache RedisGet all the benefits of ElastiCache Redis—and then some.CachingGet going with MomentoTry for FreeContact Us\\n\\n\\n© 2023 momento. All rights reserved.Join Our NewsletterI agree to receive other communications from Momento. For more information, review our Privacy Policy and Cookie Policy.Thank you!Your submission has been received.Please insert valid email addressGet in Touch\\n\\n\\n\\n\\n\\n\\n\\nSolutionsby Team Typeby Team Typeby Company Sizeby Company SizeProductDocsPricingCompanyBlogCareersAbout UsPrivacy PolicyCookie PolicyTerms of ServiceComplianceOpen\\n\\n\\n\\n\\n\\n\\n\\n\\n\\n\\n\\n\\n\\n\\n\\n\\n\\n\\n\\n\\n\\n\\n\\n\\n\\n\\n\\n\\n\\n\\n\\n\\n\\n\\n\\n'"
      ]
     },
     "execution_count": 11,
     "metadata": {},
     "output_type": "execute_result"
    }
   ],
   "source": [
    "blogs[0].page_content\n"
   ]
  },
  {
   "cell_type": "code",
   "execution_count": 12,
   "metadata": {},
   "outputs": [],
   "source": [
    "docs = tech_docs + blogs\n"
   ]
  },
  {
   "cell_type": "code",
   "execution_count": 13,
   "metadata": {},
   "outputs": [
    {
     "data": {
      "text/plain": [
       "(110, 100, 210)"
      ]
     },
     "execution_count": 13,
     "metadata": {},
     "output_type": "execute_result"
    }
   ],
   "source": [
    "len(tech_docs), len(blogs), len(docs)\n"
   ]
  },
  {
   "cell_type": "markdown",
   "metadata": {},
   "source": [
    "# Split data into smaller pieces in prep for Q&A"
   ]
  },
  {
   "cell_type": "code",
   "execution_count": 15,
   "metadata": {},
   "outputs": [
    {
     "data": {
      "text/plain": [
       "3464"
      ]
     },
     "execution_count": 15,
     "metadata": {},
     "output_type": "execute_result"
    }
   ],
   "source": [
    "text_splitter = TokenTextSplitter(chunk_size=128, chunk_overlap=32, model_name=\"text-embedding-ada-002\")\n",
    "split_docs = text_splitter.split_documents(docs)\n",
    "len(split_docs)\n"
   ]
  },
  {
   "cell_type": "markdown",
   "metadata": {},
   "source": [
    "# Load the data into MVI"
   ]
  },
  {
   "cell_type": "markdown",
   "metadata": {},
   "source": [
    "Let's come up with meaningful ID's to apply"
   ]
  },
  {
   "cell_type": "code",
   "execution_count": 16,
   "metadata": {},
   "outputs": [],
   "source": [
    "def gen_ids(docs: list[Document]) -> list[str]:\n",
    "    ids = []\n",
    "    prev_source = None\n",
    "    prev_source_index = 0\n",
    "    for doc in docs:\n",
    "        source = doc.metadata[\"source\"]\n",
    "        if source != prev_source:\n",
    "            ids.append(f\"{source}, chunk=1\")\n",
    "            prev_source_index = 1\n",
    "        else:\n",
    "            ids.append(f\"{source}, chunk={prev_source_index+1}\")\n",
    "            prev_source_index += 1\n",
    "        prev_source = source\n",
    "    return ids\n"
   ]
  },
  {
   "cell_type": "markdown",
   "metadata": {},
   "source": [
    "Index the data in MVI using OpenAI text embeddings"
   ]
  },
  {
   "cell_type": "code",
   "execution_count": 17,
   "metadata": {},
   "outputs": [],
   "source": [
    "from momento import PreviewVectorIndexClient, VectorIndexConfigurations, CredentialProvider\n",
    "\n",
    "client = PreviewVectorIndexClient(\n",
    "    configuration=VectorIndexConfigurations.Default.latest(),\n",
    "    credential_provider=CredentialProvider.from_environment_variable(\"MOMENTO_API_KEY\"),\n",
    ")\n"
   ]
  },
  {
   "cell_type": "code",
   "execution_count": 25,
   "metadata": {},
   "outputs": [
    {
     "data": {
      "text/plain": [
       "ListIndexes.Success(indexes=[])"
      ]
     },
     "execution_count": 25,
     "metadata": {},
     "output_type": "execute_result"
    }
   ],
   "source": [
    "client.list_indexes()\n"
   ]
  },
  {
   "cell_type": "code",
   "execution_count": 21,
   "metadata": {},
   "outputs": [],
   "source": [
    "embeddings = OpenAIEmbeddings(model=\"text-embedding-ada-002\")  # type: ignore\n",
    "\n",
    "docs = split_docs\n",
    "ids = gen_ids(docs)\n",
    "\n",
    "vector_store = MomentoVectorIndex.from_documents(\n",
    "    docs,\n",
    "    embedding=embeddings,\n",
    "    client=client,\n",
    "    index_name=\"momento\",\n",
    "    ids=ids\n",
    ")\n"
   ]
  },
  {
   "cell_type": "markdown",
   "metadata": {},
   "source": [
    "# Query using the langchain integration"
   ]
  },
  {
   "cell_type": "code",
   "execution_count": 22,
   "metadata": {},
   "outputs": [
    {
     "data": {
      "text/plain": [
       "[(Document(page_content=\" Total Cost of Ownership (TCO) matters! Complex pricing models can make it difficult to project costs. We carefully crafted our pricing model with our primary design tenant being simplicity.\\u200dHow is Momento priced? The Momento pricing model is simple and straightforward. A single pricing dimension of $0.50/GB inbound and outbound. Simply the amount of data that moves in and out of Momento Cache. And there's no separate storage charge to worry about.\\u200dWe have a free tier to make it fast for developers to try Momento. Customers get their first 5GB of inbound and outbound for free every month without\", metadata={'title': 'Simple. The way cloud pricing should be. — Momento', 'source': 'https://www.gomomento.com/blog/simple-the-way-cloud-pricing-should-be', 'language': 'en', 'description': 'You don’t need to be lost in a pricing maze. Try Momento Cache for free today.'}),\n",
       "  0.8547287583351135),\n",
       " (Document(page_content=\"Pricing and free tier for Momento TopicsServerless is about simplicity in every dimension, including pricing! For on-demand pricing, Momento Cache and Topics costs $0.50/GB transferred, metered in 1 KB increments each time. That's it!Your first 5 GBs transferred each month are free, and you don't need a credit card to get started.Momento services have no hidden charges. You don’t have to pay for storage, replication, or instances. We literally only charge you for data transferred in/out of Momento Cache or Topics services. Everything else is included. Sign up with confidence and\", metadata={'source': 'https://docs.momentohq.com/topics/manage/pricing', 'changefreq': 'weekly', 'loc': 'https://docs.momentohq.com/topics/manage/pricing', 'priority': '0.5'}),\n",
       "  0.846792459487915),\n",
       " (Document(page_content=\"'re an indie hacker or an early-stage startup that's looking to save money, Momento is a great fit for you as well.First, Momento Cache has a painless self-service sign up. You can get a Momento authentication token and start writing to your cache in less than five minutes. You don't need to talk to a salesperson or sign an upfront contract. In fact, you don't even need to enter a credit card to enjoy the free tier.Second, Momento Cache has a generous free tier. You get 50 GB free each month (see pricing for details). Our goal is to allow a wide variety of\", metadata={'changefreq': 'weekly', 'source': 'https://docs.momentohq.com/cache/introduction/what-is-serverless-caching', 'loc': 'https://docs.momentohq.com/cache/introduction/what-is-serverless-caching', 'priority': '0.5'}),\n",
       "  0.8434971570968628),\n",
       " (Document(page_content=' see how much you can save!Is it really just $.50/GB transferred in and out of Momento services? What else do you charge for?DimensionMomento chargesMemory / Storage$0/GBMulti-AZ replication charges$0/GBSingle sign-on & teams (coming soon)$0/userCan I run a production app for free on Momento Cache and Topics?Absolutely! Our free tier and low usage tiers are just billing. It is the same exact service and features whether you use 40GB/month or 40TB/month. You get all our availability features like multi-AZ replication, hot key protection, and', metadata={'changefreq': 'weekly', 'source': 'https://docs.momentohq.com/cache/manage/pricing', 'priority': '0.5', 'loc': 'https://docs.momentohq.com/cache/manage/pricing'}),\n",
       "  0.8427053689956665)]"
      ]
     },
     "execution_count": 22,
     "metadata": {},
     "output_type": "execute_result"
    }
   ],
   "source": [
    "vector_store.similarity_search_with_score(\"How much does Momento cost?\")\n"
   ]
  },
  {
   "cell_type": "markdown",
   "metadata": {},
   "source": [
    "# Query using the MVI client"
   ]
  },
  {
   "cell_type": "code",
   "execution_count": 23,
   "metadata": {},
   "outputs": [],
   "source": [
    "client = vector_store._client\n"
   ]
  },
  {
   "cell_type": "code",
   "execution_count": 27,
   "metadata": {},
   "outputs": [
    {
     "data": {
      "text/plain": [
       "ListIndexes.Success(indexes=[IndexInfo(name='momento', num_dimensions=1536, similarity_metric=<SimilarityMetric.COSINE_SIMILARITY: 'COSINE_SIMILARITY'>)])"
      ]
     },
     "execution_count": 27,
     "metadata": {},
     "output_type": "execute_result"
    }
   ],
   "source": [
    "client.list_indexes()\n"
   ]
  },
  {
   "cell_type": "code",
   "execution_count": 28,
   "metadata": {},
   "outputs": [],
   "source": [
    "v = embeddings.embed_query(\"Can I use Momento with C#?\")\n"
   ]
  },
  {
   "cell_type": "code",
   "execution_count": 29,
   "metadata": {},
   "outputs": [
    {
     "name": "stdout",
     "output_type": "stream",
     "text": [
      "https://docs.momentohq.com/cache/develop/sdks/dotnet, chunk=1\n",
      "0.8712294101715088\n",
      "Momento .NET SDKWelcome to the Momento .NET SDK documentation!The Momento .NET SDK is available via the nuget package Momento.Sdk.The source code can be found on GitHub: momentohq/client-sdk-dotnet.Requirements​dotnet runtime and command line tools; after \n",
      "\n",
      "https://docs.momentohq.com/topics/develop/sdks/dotnet, chunk=1\n",
      "0.8710330724716187\n",
      "Momento .NET SDKWelcome to the Momento .NET SDK documentation!The Momento .NET SDK is available via the nuget package Momento.Sdk.The source code can be found on GitHub: momentohq/client-sdk-dotnet.Requirements​dotnet runtime and command line tools; after \n",
      "\n",
      "https://www.gomomento.com/blog/major-release-version-1-0-of-momento-serverless-cache-net-client, chunk=1\n",
      "0.8558578491210938\n",
      "Major release: v1.0 of the Momento .NET client — Momento                                  NameEmail AddressThank you! Your submission has been received!Oops! Something went wrong while submitting the form.Get started with Momento Vector Index today!Get sta\n",
      "\n",
      "https://www.gomomento.com/blog/unity-chat-demo-quickly-build-a-multiplayer-chat-with-serverless-pub-sub, chunk=6\n",
      "0.8430825471878052\n",
      " experience the Momento .NET SDK within Unity, enhancing your C# game development.See serverless pub/sub in action with a quick demoWitness Momento Topics in play! Game clients utilize the pub/sub capabilities to access real-time chat. Messages, including \n",
      "\n",
      "https://docs.momentohq.com/leaderboards/develop/api-reference/language_support, chunk=3\n",
      "0.8409829139709473\n",
      "Current Status of API support in Momento SDKs\n",
      "\n",
      "https://www.gomomento.com/blog/unity-chat-demo-quickly-build-a-multiplayer-chat-with-serverless-pub-sub, chunk=5\n",
      "0.8377320766448975\n",
      " set up or configure any external servers or architecture—Momento handles it all.Integrate the Momento .NET SDK with Unity Game EngineDownload MomentoSdkUnity-1.23.0.zip and extract it to your Unity’s “Assets” folder (e.g., in a folder “Assets/MomentoSdkUn\n",
      "\n",
      "https://www.gomomento.com/blog/shockingly-simple-tuning-momentos-net-cache-client, chunk=1\n",
      "0.8322136402130127\n",
      "Shockingly simple: Tuning Momento’s .NET cache client — Momento                                  NameEmail AddressThank you! Your submission has been received!Oops! Something went wrong while submitting the form.Get started with Momento Vector Index today!\n",
      "\n",
      "https://www.gomomento.com/blog/major-release-version-1-0-of-momento-serverless-cache-net-client, chunk=3\n",
      "0.8314553499221802\n",
      " Team TypeConsoleContact UsEN  JPENJPCloseNovember 16, 2022 - 3 Min ReadMajor release: v1.0 of the Momento .NET clientCheck out some highlights from our .NET client SDK—and take it for a spin! Chris Priceby Chris Price, , by Chris Priceby Chris Price, , Pr\n",
      "\n",
      "https://docs.momentohq.com/cache/getting-started, chunk=12\n",
      "0.8312716484069824\n",
      "Python.NETGoPHPJavaRustRubyElixirFAQ​Does Momento deploy any resources into my cloud account?No, it does not. Momento Cache is a fully managed, API-based, serverless service that you call from within your application code.Step 1: Create your API keyStep 2:\n",
      "\n",
      "https://docs.momentohq.com/cache/develop/integrations/cloudflare, chunk=21\n",
      "0.8311951160430908\n",
      "o HTTP APIUsing the Momento Web SDKConclusion\n",
      "\n"
     ]
    }
   ],
   "source": [
    "response = client.search(\"momento\", v, metadata_fields=[\"text\"])\n",
    "if isinstance(response, Search.Success):\n",
    "    for hit in response.hits:\n",
    "        print(hit.id)\n",
    "        print(hit.score)\n",
    "        print(hit.metadata[\"text\"].replace(\"\\n\", \" \")[:256])\n",
    "        print()\n",
    "    "
   ]
  },
  {
   "cell_type": "markdown",
   "metadata": {},
   "source": [
    "# Cleanup"
   ]
  },
  {
   "cell_type": "code",
   "execution_count": 1,
   "metadata": {},
   "outputs": [],
   "source": [
    "# Uncomment if you want to clean up; otherwise leave the index for the chatbot.\n",
    "# client.delete_index(\"momento\")\n"
   ]
  }
 ],
 "metadata": {
  "kernelspec": {
   "display_name": ".venv",
   "language": "python",
   "name": "python3"
  },
  "language_info": {
   "codemirror_mode": {
    "name": "ipython",
    "version": 3
   },
   "file_extension": ".py",
   "mimetype": "text/x-python",
   "name": "python",
   "nbconvert_exporter": "python",
   "pygments_lexer": "ipython3",
   "version": "3.11.2"
  },
  "orig_nbformat": 4
 },
 "nbformat": 4,
 "nbformat_minor": 2
}
